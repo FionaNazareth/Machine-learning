{
 "cells": [
  {
   "cell_type": "markdown",
   "id": "19a0de02",
   "metadata": {},
   "source": [
    "# <center>AISC2006 - Step Presentation (Step 2)</center>\n",
    "## <center>Presentation - 1</center>"
   ]
  },
  {
   "cell_type": "markdown",
   "id": "d9ff5489",
   "metadata": {},
   "source": [
    "## <center>Predicting the price of Diamonds</center>"
   ]
  },
  {
   "cell_type": "markdown",
   "id": "e37df458",
   "metadata": {},
   "source": [
    "### Import Libraries"
   ]
  },
  {
   "cell_type": "code",
   "execution_count": null,
   "id": "442882e4",
   "metadata": {},
   "outputs": [],
   "source": [
    "import numpy as np\n",
    "import pandas as pd\n",
    "import matplotlib.pyplot as plt\n",
    "import seaborn as sns\n",
    "import plotly.express as px\n",
    "sns.set_style(\"whitegrid\")\n",
    "\n",
    "import warnings\n",
    "warnings.filterwarnings(\"ignore\")"
   ]
  },
  {
   "cell_type": "markdown",
   "id": "c71a532f",
   "metadata": {},
   "source": [
    "### Load Dataset"
   ]
  },
  {
   "cell_type": "code",
   "execution_count": null,
   "id": "b6c2dbb7",
   "metadata": {},
   "outputs": [],
   "source": [
    "diamonds = pd.read_csv(\"Data/diamond.csv\")"
   ]
  },
  {
   "cell_type": "code",
   "execution_count": null,
   "id": "a08a8678",
   "metadata": {},
   "outputs": [],
   "source": [
    "features = []\n",
    "def get_column_names(column_names):\n",
    "    for col in column_names:\n",
    "        features.append(col)"
   ]
  },
  {
   "cell_type": "code",
   "execution_count": null,
   "id": "8798ee6f",
   "metadata": {},
   "outputs": [],
   "source": [
    "get_column_names(diamonds.columns)\n",
    "features"
   ]
  },
  {
   "cell_type": "markdown",
   "id": "091414c7",
   "metadata": {},
   "source": [
    "\n",
    "### Data cleaning"
   ]
  },
  {
   "cell_type": "code",
   "execution_count": null,
   "id": "303126d0",
   "metadata": {},
   "outputs": [],
   "source": [
    "diamonds.shape"
   ]
  },
  {
   "cell_type": "code",
   "execution_count": null,
   "id": "81bee543",
   "metadata": {},
   "outputs": [],
   "source": [
    "# Check if the dataset has null values\n",
    "diamonds.isnull().sum()"
   ]
  },
  {
   "cell_type": "code",
   "execution_count": null,
   "id": "601e0756",
   "metadata": {},
   "outputs": [],
   "source": [
    "# Check if the dataset has duplicate values\n",
    "diamonds_duplicate = diamonds[diamonds.duplicated()]\n",
    "diamonds_duplicate.head()"
   ]
  },
  {
   "cell_type": "code",
   "execution_count": null,
   "id": "c320317b",
   "metadata": {},
   "outputs": [],
   "source": [
    "diamonds = diamonds.drop_duplicates()"
   ]
  },
  {
   "cell_type": "code",
   "execution_count": null,
   "id": "13cbff72",
   "metadata": {},
   "outputs": [],
   "source": [
    "diamonds.shape"
   ]
  },
  {
   "cell_type": "code",
   "execution_count": null,
   "id": "88f494d6",
   "metadata": {},
   "outputs": [],
   "source": [
    "# Create a copy of the dataset\n",
    "diamonds_copy = diamonds\n",
    "diamonds_copy.head()"
   ]
  },
  {
   "cell_type": "markdown",
   "id": "e9a2ae01",
   "metadata": {},
   "source": [
    "### Exploratory Data Analysis"
   ]
  },
  {
   "cell_type": "code",
   "execution_count": null,
   "id": "0697c017",
   "metadata": {},
   "outputs": [],
   "source": [
    "# Unique values in eaach column\n",
    "diamonds.nunique()"
   ]
  },
  {
   "cell_type": "code",
   "execution_count": null,
   "id": "a32d37be",
   "metadata": {},
   "outputs": [],
   "source": [
    "r = 3\n",
    "c = 2\n",
    "\n",
    "fig, axes = plt.subplots(r, c, figsize=(10,10))\n",
    "for i, col in enumerate(diamonds.columns[1:-1]):\n",
    "    ax_col = int(i%r)\n",
    "    ax_row = int(i/r)\n",
    "    \n",
    "    sns.barplot(x = diamonds[col], y = diamonds['Price'], ax=axes[ax_col, ax_row])\n",
    "fig.tight_layout()\n",
    "plt.show()"
   ]
  },
  {
   "cell_type": "markdown",
   "id": "471025fa",
   "metadata": {},
   "source": [
    "##### As seen above the data of the report column does not have much of an influence on the price of the diamonds as compared to others"
   ]
  },
  {
   "cell_type": "code",
   "execution_count": null,
   "id": "844c5dab",
   "metadata": {},
   "outputs": [],
   "source": [
    "r = 3\n",
    "c = 2\n",
    "\n",
    "fig, axes = plt.subplots(r, c, figsize=(10,10))\n",
    "for i, col in enumerate(diamonds.columns[1:-1]):\n",
    "    ax_col = int(i%r)\n",
    "    ax_row = int(i/r)\n",
    "    \n",
    "    sns.histplot(diamonds[col], ax=axes[ax_col, ax_row], kde = True)\n",
    "fig.tight_layout()\n",
    "plt.show()"
   ]
  },
  {
   "cell_type": "markdown",
   "id": "af9aa750",
   "metadata": {},
   "source": [
    "### Data Transformation"
   ]
  },
  {
   "cell_type": "code",
   "execution_count": null,
   "id": "8007a737",
   "metadata": {},
   "outputs": [],
   "source": [
    "# Transforming categorical data using lable encoder\n",
    "from sklearn.preprocessing import LabelEncoder\n",
    "\n",
    "# Initialize encoder\n",
    "encode = LabelEncoder()\n",
    "\n",
    "# Transform the data\n",
    "diamonds['Cut'] = encode.fit_transform(diamonds['Cut'])\n",
    "diamonds['Color'] = encode.fit_transform(diamonds['Color'])\n",
    "diamonds['Clarity'] = encode.fit_transform(diamonds['Clarity'])\n",
    "diamonds['Polish'] = encode.fit_transform(diamonds['Polish'])\n",
    "diamonds['Symmetry'] = encode.fit_transform(diamonds['Symmetry'])"
   ]
  },
  {
   "cell_type": "code",
   "execution_count": null,
   "id": "199d2c25",
   "metadata": {},
   "outputs": [],
   "source": [
    "# Descriptive analysis for cut column\n",
    "diamonds_copy.describe()"
   ]
  },
  {
   "cell_type": "code",
   "execution_count": null,
   "id": "c6aa4ffb",
   "metadata": {},
   "outputs": [],
   "source": [
    "r = 3\n",
    "c = 2\n",
    "\n",
    "fig, axes = plt.subplots(r, c, figsize=(10,10))\n",
    "for i, col in enumerate(diamonds.columns[1:-1]):\n",
    "    ax_col = int(i%r)\n",
    "    ax_row = int(i/r)\n",
    "    \n",
    "    sns.boxplot(x = diamonds[col], y = diamonds['Price'], ax=axes[ax_col, ax_row])\n",
    "fig.tight_layout()\n",
    "plt.show()"
   ]
  },
  {
   "cell_type": "code",
   "execution_count": null,
   "id": "d1377816",
   "metadata": {},
   "outputs": [],
   "source": [
    "# Correlation diagra,m\n",
    "plt.figure(figsize=(10,8))\n",
    "g = sns.heatmap(diamonds.corr(), annot = True, cmap = 'PuRd')"
   ]
  },
  {
   "cell_type": "markdown",
   "id": "43c921d8",
   "metadata": {},
   "source": [
    "### Split dataset into train and test set"
   ]
  },
  {
   "cell_type": "code",
   "execution_count": null,
   "id": "443738c7",
   "metadata": {},
   "outputs": [],
   "source": [
    "# Selecting features and target data\n",
    "#x = diamonds_copy.drop(['Price'], axis=1)\n",
    "#y = diamonds_copy[['Price']]\n",
    "\n",
    "x = diamonds.drop(['Price','Report'], axis=1)\n",
    "y = diamonds[['Price']]"
   ]
  },
  {
   "cell_type": "code",
   "execution_count": null,
   "id": "616c5d42",
   "metadata": {},
   "outputs": [],
   "source": [
    "# Import librarues for train and test split\n",
    "from sklearn.model_selection import train_test_split\n",
    "\n",
    "# Split into train and test\n",
    "X_train, X_test, Y_train, Y_test = train_test_split(x, y, test_size=0.2, random_state=101)"
   ]
  },
  {
   "cell_type": "markdown",
   "id": "fc4c2ce8",
   "metadata": {},
   "source": [
    "### Build ML models\n",
    "\n",
    "The ML algorithms user are:\n",
    "* Linear Regression\n",
    "* Ridge Regression\n",
    "* Lasso Regression\n",
    "* KNN \n",
    "* Decision Tree"
   ]
  },
  {
   "cell_type": "code",
   "execution_count": null,
   "id": "34623a1b",
   "metadata": {},
   "outputs": [],
   "source": [
    "#Import libraries for the models\n",
    "from sklearn.linear_model import LinearRegression, Ridge, Lasso\n",
    "from sklearn.neighbors import KNeighborsRegressor\n",
    "from sklearn.tree import DecisionTreeRegressor\n",
    "from sklearn.metrics import mean_squared_error, mean_absolute_error, r2_score"
   ]
  },
  {
   "cell_type": "markdown",
   "id": "a97bbf21",
   "metadata": {},
   "source": [
    "#### Linear Regression model"
   ]
  },
  {
   "cell_type": "code",
   "execution_count": null,
   "id": "3f28402c",
   "metadata": {},
   "outputs": [],
   "source": [
    "# Initialize the model\n",
    "linear = LinearRegression(fit_intercept= True)\n",
    "\n",
    "# Fit the model\n",
    "linear.fit(X_train, Y_train)\n",
    "\n",
    "# Predict values\n",
    "linear_pred = linear.predict(X_test)\n",
    "\n",
    "# Performance metrics0\n",
    "linear_metrics = ['Linear', np.round(mean_squared_error(Y_test, linear_pred),2), np.round(mean_absolute_error(Y_test, linear_pred), 2), \n",
    "                  np.round(mean_squared_error(Y_test, linear_pred, squared=False), 2), np.round(linear.score(X_test, Y_test), 2)]"
   ]
  },
  {
   "cell_type": "code",
   "execution_count": null,
   "id": "66faa7e3",
   "metadata": {},
   "outputs": [],
   "source": [
    "#Visualize the linear regression on testing dataset\n",
    "plt.scatter(Y_test, linear_pred)\n",
    "plt.plot(Y_test, Y_test, color = 'r')\n",
    "plt.ylabel('Predicted Diamond Price')\n",
    "plt.xlabel('Actual Diamond Price')\n",
    "plt.show()"
   ]
  },
  {
   "cell_type": "markdown",
   "id": "eb0cca76",
   "metadata": {},
   "source": [
    "#### Ridge Regression model"
   ]
  },
  {
   "cell_type": "code",
   "execution_count": null,
   "id": "452a90b0",
   "metadata": {},
   "outputs": [],
   "source": [
    "# Initialize the model\n",
    "ridge = Ridge()\n",
    "\n",
    "# Fit the model\n",
    "ridge.fit(X_train, Y_train)\n",
    "\n",
    "# Predict the values\n",
    "ridge_pred = ridge.predict(X_test)\n",
    "\n",
    "# Performance metrics\n",
    "ridge_metrics = ['Ridge', np.round(mean_squared_error(Y_test, ridge_pred),2), np.round(mean_absolute_error(Y_test, ridge_pred), 2), \n",
    "                 np.round(mean_squared_error(Y_test, ridge_pred, squared=False), 2), np.round(ridge.score(X_test, Y_test), 2)]"
   ]
  },
  {
   "cell_type": "code",
   "execution_count": null,
   "id": "dbf4325a",
   "metadata": {},
   "outputs": [],
   "source": [
    "# Visualize the Ridge regression on testing dataset\n",
    "plt.scatter(Y_test, ridge_pred)\n",
    "plt.plot(Y_test, Y_test, color = 'r')\n",
    "plt.ylabel('Predicted Diamond Price')\n",
    "plt.xlabel('Actual Diamond Price')\n",
    "plt.show()"
   ]
  },
  {
   "cell_type": "markdown",
   "id": "d2e67504",
   "metadata": {},
   "source": [
    "#### Lasso regreesion model"
   ]
  },
  {
   "cell_type": "code",
   "execution_count": null,
   "id": "999efdd8",
   "metadata": {},
   "outputs": [],
   "source": [
    "# Initialize the model\n",
    "lasso = Lasso()\n",
    "\n",
    "# Fit the model\n",
    "lasso.fit(X_train, Y_train)\n",
    "\n",
    "# Predict the values\n",
    "lasso_pred = lasso.predict(X_test)\n",
    "\n",
    "# Performance metrics\n",
    "lasso_metrics = ['Lasso',np.round(mean_squared_error(Y_test, lasso_pred),2),np.round(mean_absolute_error(Y_test, lasso_pred), 2), \n",
    "                 np.round(mean_squared_error(Y_test, lasso_pred, squared=False), 2), np.round(lasso.score(X_test, Y_test),2)]"
   ]
  },
  {
   "cell_type": "code",
   "execution_count": null,
   "id": "8dc21279",
   "metadata": {},
   "outputs": [],
   "source": [
    "# Visualize the Lasso regression on testing dataset\n",
    "plt.scatter(Y_test, lasso_pred)\n",
    "plt.plot(Y_test, Y_test, color = 'r')\n",
    "plt.ylabel('Predicted Diamond Price')\n",
    "plt.xlabel('Actual Diamond Price')\n",
    "plt.show()"
   ]
  },
  {
   "cell_type": "markdown",
   "id": "eec3e60e",
   "metadata": {},
   "source": [
    "#### K Nearest Neighbor Regression"
   ]
  },
  {
   "cell_type": "code",
   "execution_count": null,
   "id": "414e1c47",
   "metadata": {},
   "outputs": [],
   "source": [
    "# Initialize the model.\n",
    "knn = KNeighborsRegressor(n_neighbors=2)\n",
    "    \n",
    "# Fit the model\n",
    "knn.fit(X_train, Y_train)\n",
    "    \n",
    "# Predict the values\n",
    "knn_pred = knn.predict(X_test)\n",
    "\n",
    "\n",
    "# Performance metrics\n",
    "knn_metrics = ['KNN',np.round(mean_squared_error(Y_test, knn_pred),2),np.round(mean_absolute_error(Y_test, knn_pred), 2), \n",
    "                np.round(mean_squared_error(Y_test, knn_pred, squared=False), 2), np.round(knn.score(X_test, Y_test),2)]"
   ]
  },
  {
   "cell_type": "code",
   "execution_count": null,
   "id": "7d68989b",
   "metadata": {},
   "outputs": [],
   "source": [
    "# Visualize the KNN regression on testing dataset\n",
    "plt.scatter(Y_test, knn_pred)\n",
    "plt.plot(Y_test, Y_test, color = 'r')\n",
    "plt.ylabel('Predicted Diamond Price')\n",
    "plt.xlabel('Actual Diamond Price')\n",
    "plt.show()"
   ]
  },
  {
   "cell_type": "markdown",
   "id": "5ce0cd69",
   "metadata": {},
   "source": [
    "#### Decision tree model"
   ]
  },
  {
   "cell_type": "code",
   "execution_count": null,
   "id": "b10b7b51",
   "metadata": {},
   "outputs": [],
   "source": [
    "# Initialize the model.\n",
    "dt = DecisionTreeRegressor()\n",
    "    \n",
    "# Fit the model\n",
    "dt.fit(X_train, Y_train)\n",
    "    \n",
    "# Predict the values\n",
    "dt_pred = dt.predict(X_test)\n",
    "\n",
    "\n",
    "# Performance metrics\n",
    "dt_metrics = ['Decision Tree',np.round(mean_squared_error(Y_test, dt_pred),2), np.round(mean_absolute_error(Y_test, dt_pred), 2), \n",
    "                np.round(mean_squared_error(Y_test, dt_pred, squared=False), 2), np.round(dt.score(X_test, Y_test),2)]"
   ]
  },
  {
   "cell_type": "code",
   "execution_count": null,
   "id": "d0f3b47e",
   "metadata": {},
   "outputs": [],
   "source": [
    "# Visualize the Decision tree regression on testing dataset\n",
    "plt.scatter(Y_test, dt_pred)\n",
    "plt.plot(Y_test, Y_test, color = 'r')\n",
    "plt.ylabel('Predicted Diamond Price')\n",
    "plt.xlabel('Actual Diamond Price')\n",
    "plt.show()"
   ]
  },
  {
   "cell_type": "markdown",
   "id": "1fdf6e4f",
   "metadata": {},
   "source": [
    "#### Comparing performance metrix"
   ]
  },
  {
   "cell_type": "code",
   "execution_count": null,
   "id": "99d8084c",
   "metadata": {},
   "outputs": [],
   "source": [
    "metrics = pd.DataFrame([linear_metrics, ridge_metrics, lasso_metrics, knn_metrics, dt_metrics], \n",
    "                       columns=['Model', 'Mean square error', 'Mean Absolute Error', 'Mean Root Squared Error', 'Score'])"
   ]
  },
  {
   "cell_type": "code",
   "execution_count": null,
   "id": "5e79cf58",
   "metadata": {},
   "outputs": [],
   "source": [
    "metrics"
   ]
  },
  {
   "cell_type": "markdown",
   "id": "44b1d46b",
   "metadata": {},
   "source": [
    "##### From the above comparision we can conclude that Decision tree is more efficient to predict the price of diamonds as it has the highest score and lowest errors"
   ]
  },
  {
   "cell_type": "code",
   "execution_count": null,
   "id": "65115a23",
   "metadata": {},
   "outputs": [],
   "source": []
  }
 ],
 "metadata": {
  "kernelspec": {
   "display_name": "Python 3",
   "language": "python",
   "name": "python3"
  },
  "language_info": {
   "codemirror_mode": {
    "name": "ipython",
    "version": 3
   },
   "file_extension": ".py",
   "mimetype": "text/x-python",
   "name": "python",
   "nbconvert_exporter": "python",
   "pygments_lexer": "ipython3",
   "version": "3.8.8"
  }
 },
 "nbformat": 4,
 "nbformat_minor": 5
}
